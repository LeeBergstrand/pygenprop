{
 "cells": [
  {
   "cell_type": "code",
   "execution_count": 131,
   "metadata": {},
   "outputs": [],
   "source": [
    "from copy import copy\n",
    "from modules.lib import parse_genome_property_file\n",
    "from modules.genome_property import build_genome_property_connections\n",
    "\n",
    "genome_property_flat_file_path = '../genome-properties/flatfiles/genomeProperties.txt'\n",
    "genome_property_assignment_file_path = './LONGFORM_REPORT_'\n",
    "\n",
    "with open(genome_property_flat_file_path) as genome_property_file:\n",
    "    global_properties = parse_genome_property_file(genome_property_file)"
   ]
  },
  {
   "cell_type": "code",
   "execution_count": 132,
   "metadata": {},
   "outputs": [],
   "source": [
    "organism_properties = {}\n",
    "with open(genome_property_assignment_file_path) as genome_property_assignment_file:\n",
    "    current_property_id = ''\n",
    "    current_step = ''\n",
    "    step_result = False\n",
    "    property_result = False\n",
    "    current_steps = []\n",
    "    \n",
    "    for line in genome_property_assignment_file:\n",
    "        if 'PROPERTY:' in line:\n",
    "            current_property_id = line.split(':')[1].strip()\n",
    "        elif 'STEP NUMBER:' in line:\n",
    "            current_step_number = int(line.split(':')[1].strip())\n",
    "        elif 'RESULT:' in line:\n",
    "            result = line.split(':')[1].strip().lower()\n",
    "\n",
    "            if 'yes' in result:\n",
    "                result = True\n",
    "            else:\n",
    "                result = False\n",
    "\n",
    "            if 'STEP' in line:\n",
    "                if result:\n",
    "                    current_steps.append(current_step_number)\n",
    "            else:\n",
    "                if result:\n",
    "                    organism_properties[current_property_id] = current_steps\n",
    "                    current_steps = []\n",
    "        else:\n",
    "            continue"
   ]
  },
  {
   "cell_type": "code",
   "execution_count": 133,
   "metadata": {},
   "outputs": [
    {
     "data": {
      "text/plain": [
       "216"
      ]
     },
     "execution_count": 133,
     "metadata": {},
     "output_type": "execute_result"
    }
   ],
   "source": [
    "len(organism_properties)"
   ]
  },
  {
   "cell_type": "code",
   "execution_count": 134,
   "metadata": {},
   "outputs": [
    {
     "data": {
      "text/plain": [
       "GenProp0065, Type: CATEGORY, Name: Genome properties, Thresh: 0, References: False, Databases: False, Steps: True, Parents: False, Children: True, Public: False"
      ]
     },
     "execution_count": 134,
     "metadata": {},
     "output_type": "execute_result"
    }
   ],
   "source": [
    "organism_property_ids = set(organism_properties.keys())"
   ]
  },
  {
   "cell_type": "code",
   "execution_count": 142,
   "metadata": {},
   "outputs": [],
   "source": [
    "def get_organism_genome_properties_sub_tree(organism_genome_property_ids, global_genome_properties_tree):\n",
    "    organism_properties_tree = {}\n",
    "\n",
    "    for identifier in organism_genome_property_ids:\n",
    "        genome_property = copy(global_genome_properties_tree.get(identifier))\n",
    "        if genome_property:\n",
    "            genome_property.parents = []\n",
    "            genome_property.child = []\n",
    "            organism_properties_tree[identifier] = genome_property\n",
    "\n",
    "    category_genome_property_ids = []\n",
    "    for genome_property in global_genome_properties_tree.values():\n",
    "        if genome_property.type == 'CATEGORY':\n",
    "            category_genome_property_ids.append(genome_property.id)\n",
    "            genome_property_copy = copy(genome_property)\n",
    "            genome_property_copy.parents = []\n",
    "            genome_property_copy.children = []\n",
    "            organism_properties_tree[genome_property_copy.id] = genome_property_copy\n",
    "\n",
    "    build_genome_property_connections(organism_properties_tree)\n",
    "\n",
    "    nodes_to_delete = True\n",
    "    while nodes_to_delete:\n",
    "        category_property_ids_to_delete = []\n",
    "        for identifier in category_genome_property_ids:\n",
    "            category_genome_property = organism_properties_tree[identifier]\n",
    "            if not category_genome_property.children:\n",
    "                category_property_ids_to_delete.append(identifier)\n",
    "\n",
    "        if category_property_ids_to_delete:\n",
    "            for identifier in category_property_ids_to_delete:\n",
    "                genome_property = organism_properties_tree[identifier]\n",
    "                parents = genome_property.parents\n",
    "                if parents:\n",
    "                    for parent in parents:\n",
    "                        parent.children.remove(genome_property)\n",
    "                category_genome_property_ids.remove(identifier)\n",
    "                del organism_properties_tree[identifier]\n",
    "        else:\n",
    "            nodes_to_delete = False\n",
    "\n",
    "    return organism_properties_tree"
   ]
  },
  {
   "cell_type": "code",
   "execution_count": 145,
   "metadata": {},
   "outputs": [],
   "source": [
    "subtree = get_organism_genome_properties_sub_tree(organism_property_ids, global_properties)"
   ]
  }
 ],
 "metadata": {
  "kernelspec": {
   "display_name": "Python 3",
   "language": "python",
   "name": "python3"
  },
  "language_info": {
   "codemirror_mode": {
    "name": "ipython",
    "version": 3
   },
   "file_extension": ".py",
   "mimetype": "text/x-python",
   "name": "python",
   "nbconvert_exporter": "python",
   "pygments_lexer": "ipython3",
   "version": "3.6.3"
  }
 },
 "nbformat": 4,
 "nbformat_minor": 2
}
